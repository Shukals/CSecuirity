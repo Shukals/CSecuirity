{
  "nbformat": 4,
  "nbformat_minor": 0,
  "metadata": {
    "colab": {
      "provenance": [],
      "authorship_tag": "ABX9TyPQcHeliS4224/V7vOubDDW",
      "include_colab_link": true
    },
    "kernelspec": {
      "name": "python3",
      "display_name": "Python 3"
    },
    "language_info": {
      "name": "python"
    }
  },
  "cells": [
    {
      "cell_type": "markdown",
      "metadata": {
        "id": "view-in-github",
        "colab_type": "text"
      },
      "source": [
        "<a href=\"https://colab.research.google.com/github/Shukals/CSecuirity/blob/main/CS02.ipynb\" target=\"_parent\"><img src=\"https://colab.research.google.com/assets/colab-badge.svg\" alt=\"Open In Colab\"/></a>"
      ]
    },
    {
      "cell_type": "code",
      "execution_count": 1,
      "metadata": {
        "colab": {
          "base_uri": "https://localhost:8080/"
        },
        "id": "Z9iXLcVq2_CY",
        "outputId": "3538e150-143d-4a08-f623-9dab9e841310"
      },
      "outputs": [
        {
          "output_type": "stream",
          "name": "stdout",
          "text": [
            "Collecting pyshark\n",
            "  Downloading pyshark-0.6-py3-none-any.whl.metadata (806 bytes)\n",
            "Requirement already satisfied: lxml in /usr/local/lib/python3.11/dist-packages (from pyshark) (5.3.0)\n",
            "Requirement already satisfied: termcolor in /usr/local/lib/python3.11/dist-packages (from pyshark) (2.5.0)\n",
            "Requirement already satisfied: packaging in /usr/local/lib/python3.11/dist-packages (from pyshark) (24.2)\n",
            "Collecting appdirs (from pyshark)\n",
            "  Downloading appdirs-1.4.4-py2.py3-none-any.whl.metadata (9.0 kB)\n",
            "Downloading pyshark-0.6-py3-none-any.whl (41 kB)\n",
            "\u001b[2K   \u001b[90m━━━━━━━━━━━━━━━━━━━━━━━━━━━━━━━━━━━━━━━━\u001b[0m \u001b[32m41.4/41.4 kB\u001b[0m \u001b[31m2.5 MB/s\u001b[0m eta \u001b[36m0:00:00\u001b[0m\n",
            "\u001b[?25hDownloading appdirs-1.4.4-py2.py3-none-any.whl (9.6 kB)\n",
            "Installing collected packages: appdirs, pyshark\n",
            "Successfully installed appdirs-1.4.4 pyshark-0.6\n"
          ]
        }
      ],
      "source": [
        "pip install pyshark\n"
      ]
    },
    {
      "cell_type": "code",
      "source": [
        "pip install nest_asyncio\n"
      ],
      "metadata": {
        "colab": {
          "base_uri": "https://localhost:8080/"
        },
        "id": "2qtpCaWH380Z",
        "outputId": "273361ee-c59f-43d3-d3ab-9725aa71a956"
      },
      "execution_count": 2,
      "outputs": [
        {
          "output_type": "stream",
          "name": "stdout",
          "text": [
            "Requirement already satisfied: nest_asyncio in /usr/local/lib/python3.11/dist-packages (1.6.0)\n"
          ]
        }
      ]
    },
    {
      "cell_type": "code",
      "source": [
        "!apt update && apt install -y tshark"
      ],
      "metadata": {
        "colab": {
          "base_uri": "https://localhost:8080/"
        },
        "id": "akACjD7g3_xB",
        "outputId": "0f1092b9-e416-4d10-ff69-7269048d370e"
      },
      "execution_count": 4,
      "outputs": [
        {
          "output_type": "stream",
          "name": "stdout",
          "text": [
            "\u001b[33m\r0% [Working]\u001b[0m\r            \rGet:1 https://cloud.r-project.org/bin/linux/ubuntu jammy-cran40/ InRelease [3,626 B]\n",
            "\u001b[33m\r0% [Waiting for headers] [Connecting to security.ubuntu.com (185.125.190.82)] [1 InRelease 3,626 B/3\u001b[0m\u001b[33m\r0% [Waiting for headers] [Connecting to security.ubuntu.com (185.125.190.82)] [Connected to r2u.stat\u001b[0m\r                                                                                                    \rGet:2 https://developer.download.nvidia.com/compute/cuda/repos/ubuntu2204/x86_64  InRelease [1,581 B]\n",
            "\u001b[33m\r0% [Waiting for headers] [Connecting to security.ubuntu.com (185.125.190.82)] [Connected to r2u.stat\u001b[0m\r                                                                                                    \rHit:3 http://archive.ubuntu.com/ubuntu jammy InRelease\n",
            "Get:4 http://archive.ubuntu.com/ubuntu jammy-updates InRelease [128 kB]\n",
            "Get:5 http://security.ubuntu.com/ubuntu jammy-security InRelease [129 kB]\n",
            "Get:6 https://cloud.r-project.org/bin/linux/ubuntu jammy-cran40/ Packages [62.9 kB]\n",
            "Get:7 https://r2u.stat.illinois.edu/ubuntu jammy InRelease [6,555 B]\n",
            "Get:8 https://developer.download.nvidia.com/compute/cuda/repos/ubuntu2204/x86_64  Packages [1,303 kB]\n",
            "Get:9 http://archive.ubuntu.com/ubuntu jammy-backports InRelease [127 kB]\n",
            "Hit:10 https://ppa.launchpadcontent.net/deadsnakes/ppa/ubuntu jammy InRelease\n",
            "Get:11 https://r2u.stat.illinois.edu/ubuntu jammy/main all Packages [8,631 kB]\n",
            "Get:12 http://archive.ubuntu.com/ubuntu jammy-updates/restricted amd64 Packages [3,742 kB]\n",
            "Hit:13 https://ppa.launchpadcontent.net/graphics-drivers/ppa/ubuntu jammy InRelease\n",
            "Hit:14 https://ppa.launchpadcontent.net/ubuntugis/ppa/ubuntu jammy InRelease\n",
            "Get:15 http://archive.ubuntu.com/ubuntu jammy-updates/main amd64 Packages [2,904 kB]\n",
            "Get:16 http://archive.ubuntu.com/ubuntu jammy-updates/universe amd64 Packages [1,521 kB]\n",
            "Get:17 http://security.ubuntu.com/ubuntu jammy-security/main amd64 Packages [2,603 kB]\n",
            "Get:18 https://r2u.stat.illinois.edu/ubuntu jammy/main amd64 Packages [2,646 kB]\n",
            "Get:19 http://security.ubuntu.com/ubuntu jammy-security/restricted amd64 Packages [3,606 kB]\n",
            "Get:20 http://security.ubuntu.com/ubuntu jammy-security/universe amd64 Packages [1,229 kB]\n",
            "Fetched 28.6 MB in 3s (8,971 kB/s)\n",
            "Reading package lists... Done\n",
            "Building dependency tree... Done\n",
            "Reading state information... Done\n",
            "52 packages can be upgraded. Run 'apt list --upgradable' to see them.\n",
            "\u001b[1;33mW: \u001b[0mSkipping acquire of configured file 'main/source/Sources' as repository 'https://r2u.stat.illinois.edu/ubuntu jammy InRelease' does not seem to provide it (sources.list entry misspelt?)\u001b[0m\n",
            "Reading package lists... Done\n",
            "Building dependency tree... Done\n",
            "Reading state information... Done\n",
            "The following additional packages will be installed:\n",
            "  libbcg729-0 libc-ares2 liblua5.2-0 libmaxminddb0 libnl-genl-3-200 libpcap0.8 libsbc1 libsmi2ldbl\n",
            "  libspandsp2 libspeexdsp1 libwireshark-data libwireshark15 libwiretap12 libwsutil13\n",
            "  wireshark-common\n",
            "Suggested packages:\n",
            "  mmdb-bin snmp-mibs-downloader geoipupdate geoip-database geoip-database-extra libjs-leaflet\n",
            "  libjs-leaflet.markercluster wireshark-doc\n",
            "The following NEW packages will be installed:\n",
            "  libbcg729-0 libc-ares2 liblua5.2-0 libmaxminddb0 libnl-genl-3-200 libpcap0.8 libsbc1 libsmi2ldbl\n",
            "  libspandsp2 libspeexdsp1 libwireshark-data libwireshark15 libwiretap12 libwsutil13 tshark\n",
            "  wireshark-common\n",
            "0 upgraded, 16 newly installed, 0 to remove and 52 not upgraded.\n",
            "Need to get 23.0 MB of archives.\n",
            "After this operation, 120 MB of additional disk space will be used.\n",
            "Get:1 http://archive.ubuntu.com/ubuntu jammy/main amd64 libmaxminddb0 amd64 1.5.2-1build2 [24.7 kB]\n",
            "Get:2 http://archive.ubuntu.com/ubuntu jammy-updates/main amd64 libpcap0.8 amd64 1.10.1-4ubuntu1.22.04.1 [145 kB]\n",
            "Get:3 http://archive.ubuntu.com/ubuntu jammy/universe amd64 libbcg729-0 amd64 1.1.1-2 [32.9 kB]\n",
            "Get:4 http://archive.ubuntu.com/ubuntu jammy/universe amd64 liblua5.2-0 amd64 5.2.4-2 [125 kB]\n",
            "Get:5 http://archive.ubuntu.com/ubuntu jammy/main amd64 libnl-genl-3-200 amd64 3.5.0-0.1 [12.4 kB]\n",
            "Get:6 http://archive.ubuntu.com/ubuntu jammy/universe amd64 libsmi2ldbl amd64 0.4.8+dfsg2-16 [100 kB]\n",
            "Get:7 http://archive.ubuntu.com/ubuntu jammy/universe amd64 libspandsp2 amd64 0.0.6+dfsg-2 [272 kB]\n",
            "Get:8 http://archive.ubuntu.com/ubuntu jammy/main amd64 libspeexdsp1 amd64 1.2~rc1.2-1.1ubuntu3 [42.5 kB]\n",
            "Get:9 http://archive.ubuntu.com/ubuntu jammy/universe amd64 libwireshark-data all 3.6.2-2 [1,647 kB]\n",
            "Get:10 http://archive.ubuntu.com/ubuntu jammy-updates/main amd64 libc-ares2 amd64 1.18.1-1ubuntu0.22.04.3 [45.1 kB]\n",
            "Get:11 http://archive.ubuntu.com/ubuntu jammy/main amd64 libsbc1 amd64 1.5-3build2 [34.4 kB]\n",
            "Get:12 http://archive.ubuntu.com/ubuntu jammy/universe amd64 libwsutil13 amd64 3.6.2-2 [99.2 kB]\n",
            "Get:13 http://archive.ubuntu.com/ubuntu jammy/universe amd64 libwiretap12 amd64 3.6.2-2 [255 kB]\n",
            "Get:14 http://archive.ubuntu.com/ubuntu jammy/universe amd64 libwireshark15 amd64 3.6.2-2 [19.5 MB]\n",
            "Get:15 http://archive.ubuntu.com/ubuntu jammy/universe amd64 wireshark-common amd64 3.6.2-2 [473 kB]\n",
            "Get:16 http://archive.ubuntu.com/ubuntu jammy/universe amd64 tshark amd64 3.6.2-2 [157 kB]\n",
            "Fetched 23.0 MB in 1s (17.0 MB/s)\n",
            "Preconfiguring packages ...\n",
            "Selecting previously unselected package libmaxminddb0:amd64.\n",
            "(Reading database ... 124788 files and directories currently installed.)\n",
            "Preparing to unpack .../00-libmaxminddb0_1.5.2-1build2_amd64.deb ...\n",
            "Unpacking libmaxminddb0:amd64 (1.5.2-1build2) ...\n",
            "Selecting previously unselected package libpcap0.8:amd64.\n",
            "Preparing to unpack .../01-libpcap0.8_1.10.1-4ubuntu1.22.04.1_amd64.deb ...\n",
            "Unpacking libpcap0.8:amd64 (1.10.1-4ubuntu1.22.04.1) ...\n",
            "Selecting previously unselected package libbcg729-0:amd64.\n",
            "Preparing to unpack .../02-libbcg729-0_1.1.1-2_amd64.deb ...\n",
            "Unpacking libbcg729-0:amd64 (1.1.1-2) ...\n",
            "Selecting previously unselected package liblua5.2-0:amd64.\n",
            "Preparing to unpack .../03-liblua5.2-0_5.2.4-2_amd64.deb ...\n",
            "Unpacking liblua5.2-0:amd64 (5.2.4-2) ...\n",
            "Selecting previously unselected package libnl-genl-3-200:amd64.\n",
            "Preparing to unpack .../04-libnl-genl-3-200_3.5.0-0.1_amd64.deb ...\n",
            "Unpacking libnl-genl-3-200:amd64 (3.5.0-0.1) ...\n",
            "Selecting previously unselected package libsmi2ldbl:amd64.\n",
            "Preparing to unpack .../05-libsmi2ldbl_0.4.8+dfsg2-16_amd64.deb ...\n",
            "Unpacking libsmi2ldbl:amd64 (0.4.8+dfsg2-16) ...\n",
            "Selecting previously unselected package libspandsp2:amd64.\n",
            "Preparing to unpack .../06-libspandsp2_0.0.6+dfsg-2_amd64.deb ...\n",
            "Unpacking libspandsp2:amd64 (0.0.6+dfsg-2) ...\n",
            "Selecting previously unselected package libspeexdsp1:amd64.\n",
            "Preparing to unpack .../07-libspeexdsp1_1.2~rc1.2-1.1ubuntu3_amd64.deb ...\n",
            "Unpacking libspeexdsp1:amd64 (1.2~rc1.2-1.1ubuntu3) ...\n",
            "Selecting previously unselected package libwireshark-data.\n",
            "Preparing to unpack .../08-libwireshark-data_3.6.2-2_all.deb ...\n",
            "Unpacking libwireshark-data (3.6.2-2) ...\n",
            "Selecting previously unselected package libc-ares2:amd64.\n",
            "Preparing to unpack .../09-libc-ares2_1.18.1-1ubuntu0.22.04.3_amd64.deb ...\n",
            "Unpacking libc-ares2:amd64 (1.18.1-1ubuntu0.22.04.3) ...\n",
            "Selecting previously unselected package libsbc1:amd64.\n",
            "Preparing to unpack .../10-libsbc1_1.5-3build2_amd64.deb ...\n",
            "Unpacking libsbc1:amd64 (1.5-3build2) ...\n",
            "Selecting previously unselected package libwsutil13:amd64.\n",
            "Preparing to unpack .../11-libwsutil13_3.6.2-2_amd64.deb ...\n",
            "Unpacking libwsutil13:amd64 (3.6.2-2) ...\n",
            "Selecting previously unselected package libwiretap12:amd64.\n",
            "Preparing to unpack .../12-libwiretap12_3.6.2-2_amd64.deb ...\n",
            "Unpacking libwiretap12:amd64 (3.6.2-2) ...\n",
            "Selecting previously unselected package libwireshark15:amd64.\n",
            "Preparing to unpack .../13-libwireshark15_3.6.2-2_amd64.deb ...\n",
            "Unpacking libwireshark15:amd64 (3.6.2-2) ...\n",
            "Selecting previously unselected package wireshark-common.\n",
            "Preparing to unpack .../14-wireshark-common_3.6.2-2_amd64.deb ...\n",
            "Unpacking wireshark-common (3.6.2-2) ...\n",
            "Selecting previously unselected package tshark.\n",
            "Preparing to unpack .../15-tshark_3.6.2-2_amd64.deb ...\n",
            "Unpacking tshark (3.6.2-2) ...\n",
            "Setting up libsbc1:amd64 (1.5-3build2) ...\n",
            "Setting up libbcg729-0:amd64 (1.1.1-2) ...\n",
            "Setting up libmaxminddb0:amd64 (1.5.2-1build2) ...\n",
            "Setting up libc-ares2:amd64 (1.18.1-1ubuntu0.22.04.3) ...\n",
            "Setting up libspandsp2:amd64 (0.0.6+dfsg-2) ...\n",
            "Setting up libsmi2ldbl:amd64 (0.4.8+dfsg2-16) ...\n",
            "Setting up libwsutil13:amd64 (3.6.2-2) ...\n",
            "Setting up libpcap0.8:amd64 (1.10.1-4ubuntu1.22.04.1) ...\n",
            "Setting up libwiretap12:amd64 (3.6.2-2) ...\n",
            "Setting up libwireshark-data (3.6.2-2) ...\n",
            "Setting up liblua5.2-0:amd64 (5.2.4-2) ...\n",
            "Setting up libnl-genl-3-200:amd64 (3.5.0-0.1) ...\n",
            "Setting up libspeexdsp1:amd64 (1.2~rc1.2-1.1ubuntu3) ...\n",
            "Setting up libwireshark15:amd64 (3.6.2-2) ...\n",
            "Setting up wireshark-common (3.6.2-2) ...\n",
            "Setting up tshark (3.6.2-2) ...\n",
            "Processing triggers for hicolor-icon-theme (0.17-2) ...\n",
            "Processing triggers for libc-bin (2.35-0ubuntu3.4) ...\n",
            "/sbin/ldconfig.real: /usr/local/lib/libtbbmalloc.so.2 is not a symbolic link\n",
            "\n",
            "/sbin/ldconfig.real: /usr/local/lib/libumf.so.0 is not a symbolic link\n",
            "\n",
            "/sbin/ldconfig.real: /usr/local/lib/libtbb.so.12 is not a symbolic link\n",
            "\n",
            "/sbin/ldconfig.real: /usr/local/lib/libur_adapter_level_zero.so.0 is not a symbolic link\n",
            "\n",
            "/sbin/ldconfig.real: /usr/local/lib/libtcm_debug.so.1 is not a symbolic link\n",
            "\n",
            "/sbin/ldconfig.real: /usr/local/lib/libur_loader.so.0 is not a symbolic link\n",
            "\n",
            "/sbin/ldconfig.real: /usr/local/lib/libhwloc.so.15 is not a symbolic link\n",
            "\n",
            "/sbin/ldconfig.real: /usr/local/lib/libtcm.so.1 is not a symbolic link\n",
            "\n",
            "/sbin/ldconfig.real: /usr/local/lib/libur_adapter_opencl.so.0 is not a symbolic link\n",
            "\n",
            "/sbin/ldconfig.real: /usr/local/lib/libtbbbind_2_5.so.3 is not a symbolic link\n",
            "\n",
            "/sbin/ldconfig.real: /usr/local/lib/libtbbbind_2_0.so.3 is not a symbolic link\n",
            "\n",
            "/sbin/ldconfig.real: /usr/local/lib/libtbbmalloc_proxy.so.2 is not a symbolic link\n",
            "\n",
            "/sbin/ldconfig.real: /usr/local/lib/libtbbbind.so.3 is not a symbolic link\n",
            "\n",
            "Processing triggers for man-db (2.10.2-1) ...\n",
            "Processing triggers for shared-mime-info (2.1-2) ...\n"
          ]
        }
      ]
    },
    {
      "cell_type": "code",
      "source": [
        "!DEBIAN_FRONTEND=noninteractive apt install -y tshark\n"
      ],
      "metadata": {
        "colab": {
          "base_uri": "https://localhost:8080/"
        },
        "id": "r9wZ0Wxp4b7y",
        "outputId": "1c5949fe-16a6-4668-d36b-1fac40df1fcf"
      },
      "execution_count": 5,
      "outputs": [
        {
          "output_type": "stream",
          "name": "stdout",
          "text": [
            "Reading package lists... Done\n",
            "Building dependency tree... Done\n",
            "Reading state information... Done\n",
            "tshark is already the newest version (3.6.2-2).\n",
            "0 upgraded, 0 newly installed, 0 to remove and 52 not upgraded.\n"
          ]
        }
      ]
    },
    {
      "cell_type": "code",
      "source": [
        "!tshark --version"
      ],
      "metadata": {
        "colab": {
          "base_uri": "https://localhost:8080/"
        },
        "id": "nlM9JMxH4hXa",
        "outputId": "909c7ffc-00fd-4ec5-dc9c-286e1f65652c"
      },
      "execution_count": 6,
      "outputs": [
        {
          "output_type": "stream",
          "name": "stdout",
          "text": [
            "Running as user \"root\" and group \"root\". This could be dangerous.\n",
            "TShark (Wireshark) 3.6.2 (Git v3.6.2 packaged as 3.6.2-2)\n",
            "\n",
            "Copyright 1998-2022 Gerald Combs <gerald@wireshark.org> and contributors.\n",
            "License GPLv2+: GNU GPL version 2 or later <https://www.gnu.org/licenses/gpl-2.0.html>\n",
            "This is free software; see the source for copying conditions. There is NO\n",
            "warranty; not even for MERCHANTABILITY or FITNESS FOR A PARTICULAR PURPOSE.\n",
            "\n",
            "Compiled (64-bit) using GCC 11.2.0, with libpcap, with POSIX capabilities\n",
            "(Linux), with libnl 3, with GLib 2.71.2, with zlib 1.2.11, with Lua 5.2.4, with\n",
            "GnuTLS 3.7.3 and PKCS #11 support, with Gcrypt 1.9.4, with MIT Kerberos, with\n",
            "MaxMind DB resolver, with nghttp2 1.43.0, with brotli, with LZ4, with Zstandard,\n",
            "with Snappy, with libxml2 2.9.12, with libsmi 0.4.8.\n",
            "\n",
            "Running on Linux 6.1.85+, with Intel(R) Xeon(R) CPU @ 2.20GHz (with SSE4.2),\n",
            "with 12978 MB of physical memory, with GLib 2.72.4, with zlib 1.2.11, with\n",
            "libpcap 1.10.1 (with TPACKET_V3), with c-ares 1.18.1, with GnuTLS 3.7.3, with\n",
            "Gcrypt 1.9.4, with nghttp2 1.43.0, with brotli 1.0.9, with LZ4 1.9.3, with\n",
            "Zstandard 1.4.8, with libsmi 0.4.8, with LC_TYPE=en_US.UTF-8, binary plugins\n",
            "supported (0 loaded).\n"
          ]
        }
      ]
    },
    {
      "cell_type": "code",
      "source": [
        "import pyshark\n",
        "from collections import defaultdict\n",
        "\n",
        "def analyze_tcp_flows(pcap_file):\n",
        "    tcp_flows = defaultdict(lambda: {'packet_count': 0, 'total_bytes': 0})\n",
        "\n",
        "    # Read the pcap file\n",
        "    cap = pyshark.FileCapture(pcap_file, display_filter='tcp')\n",
        "\n",
        "    for packet in cap:\n",
        "        try:\n",
        "            src_ip = packet.ip.src\n",
        "            dst_ip = packet.ip.dst\n",
        "            src_port = packet.tcp.srcport\n",
        "            dst_port = packet.tcp.dstport\n",
        "            flow_key = (src_ip, src_port, dst_ip, dst_port)\n",
        "\n",
        "            tcp_flows[flow_key]['packet_count'] += 1\n",
        "            tcp_flows[flow_key]['total_bytes'] += int(packet.length)\n",
        "        except AttributeError:\n",
        "            continue  # Skip packets that don't have the expected fields\n",
        "\n",
        "    cap.close()\n",
        "\n",
        "    # Print the summary\n",
        "    print(\"TCP Flow Summary:\")\n",
        "    print(\"{:<20} {:<8} {:<20} {:<8} {:<12} {:<12}\".format(\"Source IP\", \"Src Port\", \"Destination IP\", \"Dst Port\", \"Packet Count\", \"Total Bytes\"))\n",
        "    print(\"-\" * 80)\n",
        "    for (src_ip, src_port, dst_ip, dst_port), stats in tcp_flows.items():\n",
        "        print(f\"{src_ip:<20} {src_port:<8} {dst_ip:<20} {dst_port:<8} {stats['packet_count']:<12} {stats['total_bytes']:<12}\")\n",
        "\n",
        "if __name__ == \"__main__\":\n",
        "    pcap_file = '/content/lab2.pcap'  # Change this to your pcap file path\n",
        "    analyze_tcp_flows(pcap_file)"
      ],
      "metadata": {
        "colab": {
          "base_uri": "https://localhost:8080/"
        },
        "id": "8fmxF3Wh7zlY",
        "outputId": "630b121f-87fa-4355-bb84-1986f9b2364c"
      },
      "execution_count": 18,
      "outputs": [
        {
          "output_type": "stream",
          "name": "stdout",
          "text": [
            "TCP Flow Summary:\n",
            "Source IP            Src Port Destination IP       Dst Port Packet Count Total Bytes \n",
            "--------------------------------------------------------------------------------\n",
            "192.168.32.232       50511    8.8.8.8              443      1            55          \n",
            "8.8.8.8              443      192.168.32.232       50511    1            54          \n",
            "192.168.32.232       50569    34.144.254.29        443      3            163         \n",
            "34.144.254.29        443      192.168.32.232       50569    2            120         \n",
            "192.168.32.232       50385    34.144.254.29        443      2            110         \n",
            "34.144.254.29        443      192.168.32.232       50385    2            132         \n",
            "192.168.32.232       50577    52.191.219.104       443      13           8004        \n",
            "52.191.219.104       443      192.168.32.232       50577    10           4793        \n",
            "192.168.32.232       50355    34.144.254.29        443      1            55          \n",
            "34.144.254.29        443      192.168.32.232       50355    1            66          \n",
            "192.168.32.232       50579    52.191.219.104       443      13           7999        \n",
            "52.191.219.104       443      192.168.32.232       50579    11           4847        \n",
            "192.168.32.232       50581    34.106.86.104        443      13           3293        \n",
            "192.168.32.232       50583    34.106.86.104        443      9            2386        \n",
            "34.106.86.104        443      192.168.32.232       50581    13           5677        \n",
            "34.106.86.104        443      192.168.32.232       50583    8            5252        \n",
            "192.168.32.232       50587    34.144.254.29        443      5            2397        \n",
            "34.144.254.29        443      192.168.32.232       50587    6            1178        \n"
          ]
        }
      ]
    },
    {
      "cell_type": "code",
      "source": [
        "import pyshark\n",
        "import requests\n",
        "from collections import defaultdict\n",
        "\n",
        "def get_geolocation(ip, api_key):\n",
        "    url = f\"https://ipinfo.io/{ip}/json?token={api_key}\"\n",
        "    try:\n",
        "        response = requests.get(url)\n",
        "        data = response.json()\n",
        "        return data.get('country', 'Unknown'), data.get('region', 'Unknown'), data.get('city', 'Unknown')\n",
        "    except requests.RequestException:\n",
        "        return 'Unknown', 'Unknown', 'Unknown'\n",
        "\n",
        "def analyze_ip_geolocation(pcap_file, api_key):\n",
        "    ip_locations = defaultdict(lambda: {'count': 0, 'location': ('Unknown', 'Unknown', 'Unknown')})\n",
        "\n",
        "    cap = pyshark.FileCapture(pcap_file)\n",
        "\n",
        "    for packet in cap:\n",
        "        try:\n",
        "            src_ip = packet.ip.src\n",
        "            if src_ip not in ip_locations:\n",
        "                ip_locations[src_ip]['location'] = get_geolocation(src_ip, api_key)\n",
        "            ip_locations[src_ip]['count'] += 1\n",
        "        except AttributeError:\n",
        "            continue\n",
        "\n",
        "    cap.close()\n",
        "\n",
        "    print(\"IP Geolocation Summary:\")\n",
        "    print(\"{:<20} {:<10} {:<15} {:<15} {:<10}\".format(\"IP Address\", \"Country\", \"Region\", \"City\", \"Count\"))\n",
        "    print(\"-\" * 75)\n",
        "    for ip, info in ip_locations.items():\n",
        "        country, region, city = info['location']\n",
        "        print(f\"{ip:<20} {country:<10} {region:<15} {city:<15} {info['count']:<10}\")\n",
        "\n",
        "if __name__ == \"__main__\":\n",
        "    API_KEY = 'ipinfo.io' # Replace with your actual API key\n",
        "    PCAP_FILE = '/content/lab2.pcap'  # Change to your pcap file path\n",
        "    analyze_ip_geolocation(PCAP_FILE, API_KEY)\n"
      ],
      "metadata": {
        "colab": {
          "base_uri": "https://localhost:8080/"
        },
        "id": "zGcdMLzD9PGT",
        "outputId": "0ecae4f0-73f7-4905-a970-e220ac1feb78"
      },
      "execution_count": 19,
      "outputs": [
        {
          "output_type": "stream",
          "name": "stdout",
          "text": [
            "IP Geolocation Summary:\n",
            "IP Address           Country    Region          City            Count     \n",
            "---------------------------------------------------------------------------\n",
            "192.168.32.2         Unknown    Unknown         Unknown         5         \n",
            "192.168.32.232       Unknown    Unknown         Unknown         114       \n",
            "34.144.254.29        US         Missouri        Kansas City     25        \n",
            "8.8.8.8              US         California      Mountain View   11        \n",
            "8.8.4.4              US         California      Mountain View   4         \n",
            "52.191.219.104       US         District of Columbia Washington      21        \n",
            "34.106.86.104        US         Utah            Salt Lake City  21        \n"
          ]
        }
      ]
    },
    {
      "cell_type": "code",
      "source": [
        "import pyshark\n",
        "from collections import defaultdict\n",
        "from datetime import datetime\n",
        "\n",
        "def detect_port_scanning(pcap_file, time_window=5):\n",
        "    scan_activity = defaultdict(list)\n",
        "\n",
        "    cap = pyshark.FileCapture(pcap_file, display_filter='tcp')\n",
        "\n",
        "    for packet in cap:\n",
        "        try:\n",
        "            timestamp = float(packet.sniff_timestamp)\n",
        "            src_ip = packet.ip.src\n",
        "            dst_ip = packet.ip.dst\n",
        "            dst_port = packet.tcp.dstport\n",
        "\n",
        "            scan_activity[(src_ip, dst_ip)].append((timestamp, int(dst_port)))\n",
        "        except AttributeError:\n",
        "            continue\n",
        "\n",
        "    cap.close()\n",
        "\n",
        "    print(\"Suspicious Port Scanning Activity:\")\n",
        "    print(\"{:<20} {:<20} {:<20} {:<10} {:<10}\".format(\"Source IP\", \"Destination IP\", \"Ports Scanned\", \"Start Time\", \"End Time\"))\n",
        "    print(\"-\" * 80)\n",
        "\n",
        "    for (src_ip, dst_ip), scans in scan_activity.items():\n",
        "        scans.sort()\n",
        "        scanned_ports = []\n",
        "        start_time, end_time = None, None\n",
        "\n",
        "        for i in range(len(scans)):\n",
        "            if start_time is None:\n",
        "                start_time = scans[i][0]\n",
        "            end_time = scans[i][0]\n",
        "            scanned_ports.append(scans[i][1])\n",
        "\n",
        "            if end_time - start_time > time_window:\n",
        "                break\n",
        "\n",
        "        if len(scanned_ports) > 5:\n",
        "            start_time_str = datetime.fromtimestamp(start_time).strftime('%Y-%m-%d %H:%M:%S')\n",
        "            end_time_str = datetime.fromtimestamp(end_time).strftime('%Y-%m-%d %H:%M:%S')\n",
        "            print(f\"{src_ip:<20} {dst_ip:<20} {sorted(scanned_ports)} {start_time_str:<10} {end_time_str:<10}\")\n",
        "\n",
        "if __name__ == \"__main__\":\n",
        "    pcap_file = '/content/lab2.pcap'\n",
        "    detect_port_scanning(pcap_file)\n"
      ],
      "metadata": {
        "colab": {
          "base_uri": "https://localhost:8080/"
        },
        "id": "5ee0hRrD-TaL",
        "outputId": "f308f66f-3e79-4b72-d677-c60fa873e2d5"
      },
      "execution_count": 21,
      "outputs": [
        {
          "output_type": "stream",
          "name": "stdout",
          "text": [
            "Suspicious Port Scanning Activity:\n",
            "Source IP            Destination IP       Ports Scanned        Start Time End Time  \n",
            "--------------------------------------------------------------------------------\n",
            "192.168.32.232       52.191.219.104       [443, 443, 443, 443, 443, 443, 443, 443, 443, 443, 443, 443, 443, 443, 443, 443, 443, 443, 443, 443, 443, 443, 443, 443] 2025-01-29 07:19:04 2025-01-29 07:19:10\n",
            "52.191.219.104       192.168.32.232       [50577, 50577, 50577, 50577, 50577, 50577, 50577, 50577, 50577, 50577, 50579, 50579, 50579, 50579, 50579, 50579, 50579, 50579, 50579, 50579] 2025-01-29 07:19:05 2025-01-29 07:19:10\n",
            "192.168.32.232       34.106.86.104        [443, 443, 443, 443, 443, 443, 443, 443, 443, 443, 443, 443, 443, 443, 443, 443, 443, 443, 443] 2025-01-29 07:19:22 2025-01-29 07:19:28\n",
            "34.106.86.104        192.168.32.232       [50581, 50581, 50581, 50581, 50581, 50581, 50581, 50581, 50581, 50581, 50581, 50583, 50583, 50583, 50583, 50583, 50583] 2025-01-29 07:19:23 2025-01-29 07:19:28\n"
          ]
        }
      ]
    },
    {
      "cell_type": "code",
      "source": [
        "import re\n",
        "import requests\n",
        "\n",
        "def extract_ip(email_header):\n",
        "    \"\"\"Extract the originating IP address from an email header.\"\"\"\n",
        "    ip_pattern = re.compile(r'\\b(?:[0-9]{1,3}\\.){3}[0-9]{1,3}\\b')\n",
        "\n",
        "    for line in email_header.split(\"\\n\"):\n",
        "        if \"Received: from\" in line:\n",
        "            ip_matches = ip_pattern.findall(line)\n",
        "            for ip in ip_matches:\n",
        "                if not ip.startswith(\"10.\") and not ip.startswith(\"192.168.\") and not ip.startswith(\"172.\"):\n",
        "                    return ip  # Return the first non-private IP found\n",
        "    return None\n",
        "\n",
        "def get_ip_location(ip):\n",
        "    \"\"\"Retrieve geolocation information for a given IP address.\"\"\"\n",
        "    try:\n",
        "        response = requests.get(f\"https://ipinfo.io/{ip}/json\")\n",
        "        data = response.json()\n",
        "        return {\n",
        "            \"IP\": ip,\n",
        "            \"City\": data.get(\"city\", \"Unknown\"),\n",
        "            \"Region\": data.get(\"region\", \"Unknown\"),\n",
        "            \"Country\": data.get(\"country\", \"Unknown\"),\n",
        "            \"Location\": data.get(\"loc\", \"Unknown\"),\n",
        "            \"ISP\": data.get(\"org\", \"Unknown\")\n",
        "        }\n",
        "    except requests.RequestException:\n",
        "        return {\"Error\": \"Unable to retrieve geolocation data\"}\n",
        "\n",
        "def main():\n",
        "    email_header = \"\"\"\n",
        "    Received: from mail.example.com (mail.example.com. [209.85.220.69])\n",
        "    by mx.google.com with ESMTPS id x7si12345678qka.123.2024.01.29.12.34.56\n",
        "    \"\"\"\n",
        "\n",
        "    ip = extract_ip(email_header)\n",
        "\n",
        "    if ip:\n",
        "        location = get_ip_location(ip)\n",
        "        print(\"Originating IP Address:\", ip)\n",
        "        print(\"Location Information:\", location)\n",
        "    else:\n",
        "        print(\"No valid IP address found in the email header.\")\n",
        "\n",
        "if __name__ == \"__main__\":\n",
        "    main()"
      ],
      "metadata": {
        "colab": {
          "base_uri": "https://localhost:8080/"
        },
        "id": "d8CUJFYVAw1s",
        "outputId": "1b4523ae-c7c1-468f-d43b-2beab1d01d9f"
      },
      "execution_count": 24,
      "outputs": [
        {
          "output_type": "stream",
          "name": "stdout",
          "text": [
            "Originating IP Address: 209.85.220.69\n",
            "Location Information: {'IP': '209.85.220.69', 'City': 'Atlanta', 'Region': 'Georgia', 'Country': 'US', 'Location': '33.7490,-84.3880', 'ISP': 'AS15169 Google LLC'}\n"
          ]
        }
      ]
    }
  ]
}